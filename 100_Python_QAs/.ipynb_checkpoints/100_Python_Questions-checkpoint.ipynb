{
 "cells": [
  {
   "cell_type": "code",
   "execution_count": 1,
   "metadata": {},
   "outputs": [
    {
     "name": "stdout",
     "output_type": "stream",
     "text": [
      "18\n"
     ]
    }
   ],
   "source": [
    "# Question 1:\n",
    "\n",
    "# What will the following code produce?\n",
    "# a = 2\n",
    "# a = 4\n",
    "# a = 6\n",
    "# print(a + a + a)\n",
    "\n",
    "\n",
    "# Answer is 18 (1 point)\n",
    "\n",
    "a = 2\n",
    "a = 4\n",
    "a = 6\n",
    "print(a*3)"
   ]
  },
  {
   "cell_type": "code",
   "execution_count": 2,
   "metadata": {
    "collapsed": true
   },
   "outputs": [],
   "source": [
    "# Question 2\n",
    "\n",
    "# Question: What's wrong with the following script?\n",
    "\n",
    "# a = 1\n",
    "# _a = 2\n",
    "# _a2 = 3\n",
    "# 2a = 4\n",
    "\n",
    "# You cannot have a number at the beginning of a variable name (1 point)\n"
   ]
  },
  {
   "cell_type": "code",
   "execution_count": 3,
   "metadata": {
    "collapsed": true
   },
   "outputs": [],
   "source": [
    "# Question 3\n",
    "\n",
    "#  Executing the code will throw an error. Can you explain why?\n",
    "\n",
    "# a = 1\n",
    "# b = 2\n",
    "# print(a == b)\n",
    "# print(b == c)\n",
    "\n",
    "# \"c\" is not defined (1 point)"
   ]
  },
  {
   "cell_type": "code",
   "execution_count": 4,
   "metadata": {},
   "outputs": [
    {
     "name": "stdout",
     "output_type": "stream",
     "text": [
      "3\n"
     ]
    }
   ],
   "source": [
    "# Question 4 (1 point)\n",
    "\n",
    "# Question: Fix the last line so that it outputs the sum of 1 and 2. Please do not change the first two lines. Only the last one.\n",
    "\n",
    "# a = \"1\"\n",
    "# b = 2\n",
    "# print(a + b)\n",
    "\n",
    "a = \"1\"\n",
    "b = 2\n",
    "print(int(a) + b)"
   ]
  },
  {
   "cell_type": "code",
   "execution_count": 5,
   "metadata": {},
   "outputs": [
    {
     "data": {
      "text/plain": [
       "'b'"
      ]
     },
     "execution_count": 5,
     "metadata": {},
     "output_type": "execute_result"
    }
   ],
   "source": [
    "# Question 5 (1 point)\n",
    "\n",
    "# Question: Complete the script so that it prints out the second item of the list.\n",
    "\n",
    "# letters = [\"a\", \"b\", \"c\", \"d\", \"e\", \"f\", \"g\", \"h\", \"i\", \"j\"]\n",
    "\n",
    "letters = [\"a\", \"b\", \"c\", \"d\", \"e\", \"f\", \"g\", \"h\", \"i\", \"j\"]\n",
    "letters[1]"
   ]
  },
  {
   "cell_type": "code",
   "execution_count": 6,
   "metadata": {},
   "outputs": [
    {
     "data": {
      "text/plain": [
       "['d', 'e', 'f']"
      ]
     },
     "execution_count": 6,
     "metadata": {},
     "output_type": "execute_result"
    }
   ],
   "source": [
    "# Question 6 (1 point)\n",
    "\n",
    "# Question: Please complete the script so that it prints out a list slice containing items d , e , and f .\n",
    "\n",
    "letters[3:6]"
   ]
  },
  {
   "cell_type": "code",
   "execution_count": 7,
   "metadata": {},
   "outputs": [
    {
     "data": {
      "text/plain": [
       "['a', 'b', 'c']"
      ]
     },
     "execution_count": 7,
     "metadata": {},
     "output_type": "execute_result"
    }
   ],
   "source": [
    "# # Question 7  (1 point)\n",
    "# Please complete the script so that it prints out the first three items of list letters.\n",
    "\n",
    "letters[:3]"
   ]
  },
  {
   "cell_type": "code",
   "execution_count": 8,
   "metadata": {},
   "outputs": [
    {
     "data": {
      "text/plain": [
       "'i'"
      ]
     },
     "execution_count": 8,
     "metadata": {},
     "output_type": "execute_result"
    }
   ],
   "source": [
    "# Question 8 (1 point)\n",
    "\n",
    "# Complete the script so that it prints out letter i  using negative indexing.\n",
    "\n",
    "letters[-2]"
   ]
  },
  {
   "cell_type": "code",
   "execution_count": 9,
   "metadata": {},
   "outputs": [
    {
     "data": {
      "text/plain": [
       "['h', 'i', 'j']"
      ]
     },
     "execution_count": 9,
     "metadata": {},
     "output_type": "execute_result"
    }
   ],
   "source": [
    "# Question 9 (1 point)\n",
    "# Complete the script so that it prints out a list slice containing the last three items of list letters .\n",
    "\n",
    "letters[7:]"
   ]
  },
  {
   "cell_type": "code",
   "execution_count": 10,
   "metadata": {},
   "outputs": [
    {
     "data": {
      "text/plain": [
       "['a', 'c', 'e', 'g', 'i']"
      ]
     },
     "execution_count": 10,
     "metadata": {},
     "output_type": "execute_result"
    }
   ],
   "source": [
    "# # Question 10 (2 points)\n",
    "# Complete the script so that it prints out a list slice containing letters a, c, e, g, and i. \n",
    "\n",
    "letters[::2]"
   ]
  },
  {
   "cell_type": "code",
   "execution_count": 11,
   "metadata": {},
   "outputs": [
    {
     "name": "stdout",
     "output_type": "stream",
     "text": [
      "[0, 1, 2, 3, 4, 5, 6, 7, 8, 9, 10, 11, 12, 13, 14, 15, 16, 17, 18, 19]\n"
     ]
    }
   ],
   "source": [
    "# Question 11 (1 point)\n",
    "\n",
    "# Create a list from 1 to 20\n",
    "\n",
    "print(list(range(0,20)))"
   ]
  },
  {
   "cell_type": "code",
   "execution_count": 12,
   "metadata": {},
   "outputs": [
    {
     "data": {
      "text/plain": [
       "[0,\n",
       " 10,\n",
       " 20,\n",
       " 30,\n",
       " 40,\n",
       " 50,\n",
       " 60,\n",
       " 70,\n",
       " 80,\n",
       " 90,\n",
       " 100,\n",
       " 110,\n",
       " 120,\n",
       " 130,\n",
       " 140,\n",
       " 150,\n",
       " 160,\n",
       " 170,\n",
       " 180,\n",
       " 190,\n",
       " 200]"
      ]
     },
     "execution_count": 12,
     "metadata": {},
     "output_type": "execute_result"
    }
   ],
   "source": [
    "# Question 12 (1 point)\n",
    "\n",
    "# Complete the script so that it produces the expected output. Please use my_range  as input data.\n",
    "\n",
    "[10 * num for num in list(range(0,21))]"
   ]
  },
  {
   "cell_type": "code",
   "execution_count": 13,
   "metadata": {},
   "outputs": [
    {
     "name": "stdout",
     "output_type": "stream",
     "text": [
      "['1', '2', '3', '4', '5', '6', '7', '8', '9', '10', '11', '12', '13', '14', '15', '16', '17', '18', '19', '20']\n"
     ]
    }
   ],
   "source": [
    "# Question 13 (FAILED)\n",
    "\n",
    "my_range = list(range(1,21))\n",
    "print(list(map(str, my_range)))"
   ]
  },
  {
   "cell_type": "code",
   "execution_count": 14,
   "metadata": {},
   "outputs": [
    {
     "data": {
      "text/plain": [
       "['1', 2, 1]"
      ]
     },
     "execution_count": 14,
     "metadata": {},
     "output_type": "execute_result"
    }
   ],
   "source": [
    "# Question 14 (2 points)\n",
    "\n",
    "# Complete the script so that it removes duplicate items from list a .\n",
    "\n",
    "a = [\"1\", 1, \"1\", 2]\n",
    "\n",
    "list(set(a))"
   ]
  },
  {
   "cell_type": "code",
   "execution_count": 15,
   "metadata": {
    "collapsed": true
   },
   "outputs": [],
   "source": [
    "# # Question 15 (1 point)\n",
    "\n",
    "# Create a dictionary that contains the keys a  and b  and their respective values 1  and 2 .\n",
    "\n",
    "d = {\n",
    "    \"a\": 1,\n",
    "    \"b\": 2\n",
    "    }"
   ]
  },
  {
   "cell_type": "code",
   "execution_count": 16,
   "metadata": {},
   "outputs": [
    {
     "data": {
      "text/plain": [
       "2"
      ]
     },
     "execution_count": 16,
     "metadata": {},
     "output_type": "execute_result"
    }
   ],
   "source": [
    "# Question 16 (1 point)\n",
    "\n",
    "# Please complete the script so that it prints out the value of key b .\n",
    "\n",
    "d = {\"a\": 1, \"b\": 2}\n",
    "\n",
    "d[\"b\"]"
   ]
  },
  {
   "cell_type": "code",
   "execution_count": 17,
   "metadata": {},
   "outputs": [
    {
     "data": {
      "text/plain": [
       "3"
      ]
     },
     "execution_count": 17,
     "metadata": {},
     "output_type": "execute_result"
    }
   ],
   "source": [
    "# Question 17 (1 point)\n",
    "\n",
    "# Question: Calculate the sum of the values of keys a  and b .\n",
    "\n",
    "d = {\"a\": 1, \"b\": 2, \"c\": 3}\n",
    "\n",
    "d[\"a\"] + d[\"b\"]"
   ]
  },
  {
   "cell_type": "code",
   "execution_count": 18,
   "metadata": {
    "collapsed": true
   },
   "outputs": [],
   "source": [
    "# Question 18 (1 point)\n",
    "\n",
    "# You obtain a key error due to not calling the key value pair correctly\n",
    "\n",
    "# d = {\"Name\": \"John\", \"Surname\": \"Smith}\n",
    "\n",
    "# Needs to be called as d(\"Surname\")"
   ]
  },
  {
   "cell_type": "code",
   "execution_count": 19,
   "metadata": {},
   "outputs": [
    {
     "data": {
      "text/plain": [
       "{'a': 1, 'b': 2, 'c': 3}"
      ]
     },
     "execution_count": 19,
     "metadata": {},
     "output_type": "execute_result"
    }
   ],
   "source": [
    "# Question 20 (2 points)\n",
    "\n",
    "# Add a new pair of key (e.g. c ) and value (e.g. 3 ) to the dictionary and print out the new dictionary.\n",
    "\n",
    "d[\"c\"] = 3\n",
    "d"
   ]
  },
  {
   "cell_type": "code",
   "execution_count": 20,
   "metadata": {},
   "outputs": [
    {
     "data": {
      "text/plain": [
       "6"
      ]
     },
     "execution_count": 20,
     "metadata": {},
     "output_type": "execute_result"
    }
   ],
   "source": [
    "# Question 21 (2 points)\n",
    "\n",
    "# Calculate the sum of all dictionary values.\n",
    "\n",
    "sum(d.values())"
   ]
  },
  {
   "cell_type": "code",
   "execution_count": 21,
   "metadata": {},
   "outputs": [
    {
     "data": {
      "text/plain": [
       "{'a': [1, 2, 3, 4, 5, 6, 7, 8, 9, 10],\n",
       " 'b': [11, 12, 13, 14, 15, 16, 17, 18, 19, 20],\n",
       " 'c': [21, 22, 23, 24, 25, 26, 27, 28, 29, 30]}"
      ]
     },
     "execution_count": 21,
     "metadata": {},
     "output_type": "execute_result"
    }
   ],
   "source": [
    "# Question 22 (1 point)\n",
    "\n",
    "# Create a dictionary with ranges 0 to 10, 10 to 20 and 20 to 30\n",
    "\n",
    "first_range = list(range(1,11))\n",
    "second_range = list(range(11,21))\n",
    "third_range = list(range(21,31))\n",
    "\n",
    "range_dict = {\n",
    "    \"a\": first_range,\n",
    "    \"b\": second_range,\n",
    "    \"c\": third_range\n",
    "}\n",
    "\n",
    "range_dict"
   ]
  },
  {
   "cell_type": "code",
   "execution_count": 22,
   "metadata": {},
   "outputs": [
    {
     "data": {
      "text/plain": [
       "13"
      ]
     },
     "execution_count": 22,
     "metadata": {},
     "output_type": "execute_result"
    }
   ],
   "source": [
    "# Question 23 (1 point)\n",
    "\n",
    "#  Access the third value of key b from the dictionary.\n",
    "\n",
    "from pprint import pprint\n",
    "\n",
    "range_dict[\"b\"][2]"
   ]
  },
  {
   "cell_type": "code",
   "execution_count": 23,
   "metadata": {},
   "outputs": [
    {
     "name": "stdout",
     "output_type": "stream",
     "text": [
      "a has value [1, 2, 3, 4, 5, 6, 7, 8, 9, 10]\n",
      "b has value [11, 12, 13, 14, 15, 16, 17, 18, 19, 20]\n",
      "c has value [21, 22, 23, 24, 25, 26, 27, 28, 29, 30]\n",
      "\n",
      "\n",
      "b has value  [11, 12, 13, 14, 15, 16, 17, 18, 19, 20]\n",
      "c has value  [21, 22, 23, 24, 25, 26, 27, 28, 29, 30]\n",
      "a has value  [1, 2, 3, 4, 5, 6, 7, 8, 9, 10]\n"
     ]
    }
   ],
   "source": [
    "# Question 24 (FAILED - Needed For Loop instead)\n",
    "\n",
    "for key, value in range_dict.items():\n",
    "    print(key, \"has value\", value)\n",
    "\n",
    "print(\"\\n\")\n",
    "\n",
    "print(\"b has value \",  range_dict[\"b\"])\n",
    "print(\"c has value \",  range_dict[\"c\"])\n",
    "print(\"a has value \",  range_dict[\"a\"])"
   ]
  },
  {
   "cell_type": "code",
   "execution_count": 24,
   "metadata": {},
   "outputs": [
    {
     "name": "stdout",
     "output_type": "stream",
     "text": [
      "a\n",
      "b\n",
      "c\n",
      "d\n",
      "e\n",
      "f\n",
      "g\n",
      "h\n",
      "i\n",
      "j\n",
      "k\n",
      "l\n",
      "m\n",
      "n\n",
      "o\n",
      "p\n",
      "q\n",
      "r\n",
      "s\n",
      "t\n",
      "u\n",
      "v\n",
      "w\n",
      "x\n",
      "y\n",
      "z\n"
     ]
    }
   ],
   "source": [
    "# Question 25 (1 point)\n",
    "\n",
    "import string\n",
    " \n",
    "for letter in string.ascii_lowercase:\n",
    "    print(letter)"
   ]
  },
  {
   "cell_type": "code",
   "execution_count": 25,
   "metadata": {},
   "outputs": [
    {
     "name": "stdout",
     "output_type": "stream",
     "text": [
      "1\n",
      "2\n",
      "3\n",
      "4\n",
      "5\n",
      "6\n",
      "7\n",
      "8\n",
      "9\n",
      "10\n"
     ]
    }
   ],
   "source": [
    "# Question 26 (1 point)\n",
    "\n",
    "new_range = list(range(1,11))\n",
    "\n",
    "for i in new_range:\n",
    "    print(i)"
   ]
  },
  {
   "cell_type": "code",
   "execution_count": 26,
   "metadata": {},
   "outputs": [
    {
     "data": {
      "text/plain": [
       "0.5"
      ]
     },
     "execution_count": 26,
     "metadata": {},
     "output_type": "execute_result"
    }
   ],
   "source": [
    "# Question 27 (1 point)\n",
    "\n",
    "# Create a function that calculates acceleration given initial velocity v1, final velocity v2, start time t1, and end time t2.\n",
    "\n",
    "def velocity(v_2, v_1, t_2, t_1):\n",
    "    accelleration = (v_2 - v_1) / (t_2 - t_1)\n",
    "    return accelleration\n",
    "\n",
    "velocity(0,10,0,20)"
   ]
  },
  {
   "cell_type": "code",
   "execution_count": 27,
   "metadata": {
    "collapsed": true
   },
   "outputs": [],
   "source": [
    "# Question 28 (2 points)\n",
    "\n",
    "# Functions have to return something. Not neccessarily print"
   ]
  },
  {
   "cell_type": "code",
   "execution_count": 28,
   "metadata": {},
   "outputs": [
    {
     "data": {
      "text/plain": [
       "4069.4400000000005"
      ]
     },
     "execution_count": 28,
     "metadata": {},
     "output_type": "execute_result"
    }
   ],
   "source": [
    "# Question 29 (2 points)\n",
    "\n",
    "# Write a function that calculates liquid volume\n",
    "\n",
    "def liquid_volume(h):\n",
    "    r = 10\n",
    "    lv = ((4*3.14*r**3)/3) - ((3.14*h**2*(3*r - h))/3)\n",
    "    return lv\n",
    "\n",
    "liquid_volume(2)"
   ]
  },
  {
   "cell_type": "code",
   "execution_count": 29,
   "metadata": {
    "collapsed": true
   },
   "outputs": [],
   "source": [
    "# Question 30 (1 point)\n",
    "\n",
    "# This will give you an error due to not having a in the function itself\n",
    "\n",
    "# def foo(a=2, b):\n",
    "#     return a + b"
   ]
  },
  {
   "cell_type": "code",
   "execution_count": 30,
   "metadata": {
    "collapsed": true
   },
   "outputs": [],
   "source": [
    "# Question 31 (SKIPPED)\n",
    "\n"
   ]
  },
  {
   "cell_type": "code",
   "execution_count": 31,
   "metadata": {
    "collapsed": true
   },
   "outputs": [],
   "source": [
    "# # Question 32 (2 points)\n",
    "\n",
    "# What will the following script output? Please try to do this mentally if you can.\n",
    "\n",
    "# c = 1\n",
    "# def foo():\n",
    "#     return c\n",
    "# c = 3\n",
    "# print(foo())\n",
    "\n",
    "# This will return 3"
   ]
  },
  {
   "cell_type": "code",
   "execution_count": 32,
   "metadata": {
    "collapsed": true
   },
   "outputs": [],
   "source": [
    "# Question 33 (FAILED)"
   ]
  },
  {
   "cell_type": "code",
   "execution_count": 33,
   "metadata": {},
   "outputs": [
    {
     "name": "stdout",
     "output_type": "stream",
     "text": [
      "1\n"
     ]
    }
   ],
   "source": [
    "# Question 34 (2 points)\n",
    "\n",
    "# The following script throws a NameError  in the last line saying that c  is not defined. Please fix the function so that there is no error and the last line is able to print out the value of c  (i.e. 1 ).\n",
    "\n",
    "# def foo(): \n",
    "#     c = 1 \n",
    "#     return c \n",
    "# foo() \n",
    "# print(c)\n",
    "\n",
    "def foo(): \n",
    "    c = 1 \n",
    "    return c \n",
    "foo() \n",
    "print(foo())"
   ]
  },
  {
   "cell_type": "code",
   "execution_count": 34,
   "metadata": {},
   "outputs": [
    {
     "data": {
      "text/plain": [
       "4"
      ]
     },
     "execution_count": 34,
     "metadata": {},
     "output_type": "execute_result"
    }
   ],
   "source": [
    "# Question 35 (2 points)\n",
    "\n",
    "# Create a function that takes any string as input and returns the number of words for that string.\n",
    "\n",
    "def split(str):\n",
    "    return len(str.split())\n",
    "    \n",
    "split(\"This is a string\")"
   ]
  },
  {
   "cell_type": "code",
   "execution_count": 35,
   "metadata": {},
   "outputs": [
    {
     "name": "stdout",
     "output_type": "stream",
     "text": [
      "10\n"
     ]
    }
   ],
   "source": [
    "# Question 36 (FAILED)\n",
    "\n",
    "def count_words(filepath):\n",
    "    with open(filepath, 'r') as file:\n",
    "        strng = file.read()\n",
    "        strng_list = strng.split(\" \")\n",
    "        return len(strng_list)\n",
    " \n",
    "print(count_words(\"words1.txt\"))"
   ]
  },
  {
   "cell_type": "code",
   "execution_count": 36,
   "metadata": {},
   "outputs": [
    {
     "data": {
      "text/plain": [
       "59"
      ]
     },
     "execution_count": 36,
     "metadata": {},
     "output_type": "execute_result"
    }
   ],
   "source": [
    "# Question 37 (3 points)\n",
    "\n",
    "def count_words(filepath):\n",
    "    with open(filepath, 'r') as file:\n",
    "        strng = file.read()\n",
    "        strng.replace(\",\", \" \")\n",
    "        return len(strng)\n",
    "    \n",
    "count_words(\"words2.txt\")"
   ]
  },
  {
   "cell_type": "code",
   "execution_count": 37,
   "metadata": {},
   "outputs": [
    {
     "data": {
      "text/plain": [
       "3.0"
      ]
     },
     "execution_count": 37,
     "metadata": {},
     "output_type": "execute_result"
    }
   ],
   "source": [
    "# Question 38 (1 point)\n",
    "# The following code is supposed to print out the square root of 9, \n",
    "# but it throws an error instead because another line before that is missing. \n",
    "# Please fix the script so that it prints out the square root of 9.\n",
    "\n",
    "import math\n",
    "\n",
    "math.sqrt(9)"
   ]
  },
  {
   "cell_type": "code",
   "execution_count": 38,
   "metadata": {},
   "outputs": [
    {
     "data": {
      "text/plain": [
       "0.5403023058681398"
      ]
     },
     "execution_count": 38,
     "metadata": {},
     "output_type": "execute_result"
    }
   ],
   "source": [
    "# Question 39 (1 point) \n",
    "\n",
    "# The script is supposed to output the cosine of angle 1 radian, but instead it is throwing an error. \n",
    "# Please fix the code so that it prints out the expected output.\n",
    "\n",
    "# import math\n",
    "# print(math.cosine(1))\n",
    "\n",
    "import math\n",
    "\n",
    "math.cos(1)"
   ]
  },
  {
   "cell_type": "code",
   "execution_count": 39,
   "metadata": {},
   "outputs": [
    {
     "data": {
      "text/plain": [
       "1.0"
      ]
     },
     "execution_count": 39,
     "metadata": {},
     "output_type": "execute_result"
    }
   ],
   "source": [
    "# Question 40 (1 point)\n",
    "\n",
    "# Please try to guess what is missing in the following code and add the missing part so that the code works fine.\n",
    "\n",
    "math.pow(1,2)"
   ]
  },
  {
   "cell_type": "code",
   "execution_count": 40,
   "metadata": {
    "collapsed": true
   },
   "outputs": [],
   "source": [
    "# Question 41(FAILED)\n",
    "\n",
    "import string\n",
    " \n",
    "with open(\"letters.txt\", \"w\") as file:\n",
    "    for letter in string.ascii_lowercase:\n",
    "        file.write(letter + \"\\n\")"
   ]
  },
  {
   "cell_type": "code",
   "execution_count": 41,
   "metadata": {},
   "outputs": [
    {
     "name": "stdout",
     "output_type": "stream",
     "text": [
      "5\n",
      "7\n",
      "9\n"
     ]
    }
   ],
   "source": [
    "# Question 42 (FAILED)\n",
    "\n",
    "a = [1,2,3]\n",
    "b = (4,5,6)\n",
    "\n",
    "for i, j in zip(a,b):\n",
    "    print(i + j)"
   ]
  },
  {
   "cell_type": "code",
   "execution_count": 42,
   "metadata": {
    "collapsed": true
   },
   "outputs": [],
   "source": [
    "# Question 43 (FAILED)\n",
    "\n",
    "import string\n",
    "\n",
    "with open(\"letters.txt\", \"w\") as file:\n",
    "    for letter1, letter2 in zip(string.ascii_lowercase[0::2], string.ascii_letters[1::2]):\n",
    "        file.write(letter1 + letter2 + \"\\n\")"
   ]
  },
  {
   "cell_type": "code",
   "execution_count": 43,
   "metadata": {
    "collapsed": true
   },
   "outputs": [],
   "source": [
    "# Question 44 (3 points)\n",
    "\n",
    "import string\n",
    "\n",
    "with open(\"letters_2.txt\", \"w\") as file:\n",
    "    for letter1, letter2, letter3 in zip(string.ascii_lowercase[0::2], string.ascii_letters[1::2], string.ascii_letters[2::2]):\n",
    "        file.write(letter1 + letter2 + letter3 + \"\\n\")"
   ]
  },
  {
   "cell_type": "code",
   "execution_count": 44,
   "metadata": {
    "collapsed": true
   },
   "outputs": [],
   "source": [
    "# Question 45 (FAILED)\n",
    "\n",
    "# Please create a script that generates 26 text files named a.txt, b.txt, \n",
    "# and so on up to z.txt. Each file should contain a letter reflecting its filename. \n",
    "# So, a.txt will contain letter a, b.txt will contain letter b and so on.\n",
    "\n",
    "import string, os\n",
    "\n",
    "if not os.path.exists(\"letters\"):\n",
    "    os.makedirs(\"letters\")\n",
    "    \n",
    "for letter in string.ascii_lowercase:\n",
    "    with open(\"letters/\" + letter + \" .txt\", \"w\") as file:\n",
    "        file.write(letter + \"\\n\")"
   ]
  },
  {
   "cell_type": "code",
   "execution_count": 45,
   "metadata": {},
   "outputs": [
    {
     "name": "stdout",
     "output_type": "stream",
     "text": [
      "['a', 'b', 'c', 'd', 'e', 'f', 'g', 'h', 'i', 'j', 'k', 'l', 'm', 'n', 'o', 'p', 'q', 'r', 's', 't', 'u', 'v', 'w', 'x', 'y', 'z']\n"
     ]
    }
   ],
   "source": [
    "# Question 46 (FAILED)\n",
    "\n",
    "import glob \n",
    "\n",
    "letters = []\n",
    "file_list = glob.glob(\"letters/*.txt\")\n",
    "\n",
    "for filename in file_list:\n",
    "    with open(filename, \"r\") as file:\n",
    "        letters.append(file.read().strip(\"\\n\"))\n",
    "        \n",
    "print(letters)"
   ]
  },
  {
   "cell_type": "code",
   "execution_count": 46,
   "metadata": {},
   "outputs": [
    {
     "name": "stdout",
     "output_type": "stream",
     "text": [
      "[]\n"
     ]
    }
   ],
   "source": [
    "# Question 47 (FAILED)\n",
    "\n",
    "import glob\n",
    "\n",
    "letters = []\n",
    "file_list = glob.iglob(\"letter/*.txt\")\n",
    "check = \"python\"\n",
    "\n",
    "for filename in file_list:\n",
    "    with open(filename, \"r\") as file:\n",
    "        letter = file.read().strip(\"\\n\")\n",
    "        if letter in check:\n",
    "            letters.append(letter)\n",
    "            \n",
    "print(letters)"
   ]
  },
  {
   "cell_type": "code",
   "execution_count": 47,
   "metadata": {},
   "outputs": [
    {
     "name": "stdout",
     "output_type": "stream",
     "text": [
      "e\n"
     ]
    }
   ],
   "source": [
    "# Question 48 (1 point)\n",
    "\n",
    "# The script is supposed to print out letter \"e\" if the letter is in string \"Hello\", \n",
    "# but it doesn't. Please try to fix the script.\n",
    "\n",
    "# for letter in \"Hello\":\n",
    "#     if letter == \"e\":\n",
    "#     print(letter)\n",
    "\n",
    "for letter in \"Hello\":\n",
    "    if letter == \"e\":\n",
    "        print(letter)"
   ]
  },
  {
   "cell_type": "code",
   "execution_count": 48,
   "metadata": {},
   "outputs": [
    {
     "name": "stdout",
     "output_type": "stream",
     "text": [
      "Please enter your password: password\n"
     ]
    }
   ],
   "source": [
    "# # Question 49 (2 points)\n",
    "\n",
    "# The code is supposed to get some input from the user, \n",
    "# but instead it produces an error. Please try to understand the error and then fix it.\n",
    "\n",
    "# Change variable \"pass\" to \"password\"\n",
    "\n",
    "password = input(\"Please enter your password: \")"
   ]
  },
  {
   "cell_type": "code",
   "execution_count": 55,
   "metadata": {},
   "outputs": [
    {
     "name": "stdout",
     "output_type": "stream",
     "text": [
      "What's your age? 25\n",
      "Last year you were 24.\n"
     ]
    }
   ],
   "source": [
    "# Question 50 (2 points)\n",
    "\n",
    "#The code produces an error. Please understand the error and try to fix it\n",
    "\n",
    "# Converted age to integer\n",
    "\n",
    "age = input(\"What's your age? \")\n",
    "age_last_year = int(age) - 1\n",
    "print(\"Last year you were %s.\" % age_last_year)"
   ]
  },
  {
   "cell_type": "code",
   "execution_count": 59,
   "metadata": {},
   "outputs": [
    {
     "name": "stdout",
     "output_type": "stream",
     "text": [
      "<class 'str'>\n"
     ]
    }
   ],
   "source": [
    "# Question 51 (1 point)\n",
    "\n",
    "#  The code produces an error. Please understand the error and try to fix it\n",
    "\n",
    "# print(type(\"Hey\".replace(\"ey\",\"i\")[-1])\n",
    "\n",
    "# Add one more parenthesis\n",
    "\n",
    "print(type(\"Hey\".replace(\"ey\",\"i\")[-1]))"
   ]
  },
  {
   "cell_type": "code",
   "execution_count": 63,
   "metadata": {},
   "outputs": [
    {
     "name": "stdout",
     "output_type": "stream",
     "text": [
      "Enter first name: Jon\n",
      "Enter second name: Paradiso\n",
      "Your first name is Jon and your second name is Paradiso\n"
     ]
    }
   ],
   "source": [
    "# Question 52 (2 points)\n",
    "\n",
    "# The code is supposed to ask the user to enter their name and surname and then it prints out those user submitted values. \n",
    "# Instead, the code throws a TypeError. Please fix it so that the expected output is printed out.\n",
    "\n",
    "# firstname = input(\"Enter first name: \")\n",
    "# secondname = input(\"Enter second name: \")\n",
    "# print(\"Your first name is %s and your second name is %s\" % firstname, secondname)\n",
    "\n",
    "firstname = input(\"Enter first name: \")\n",
    "secondname = input(\"Enter second name: \")\n",
    "print(\"Your first name is %s and your second name is %s\" %(firstname, secondname))"
   ]
  },
  {
   "cell_type": "code",
   "execution_count": 79,
   "metadata": {},
   "outputs": [
    {
     "data": {
      "text/plain": [
       "'Smith'"
      ]
     },
     "execution_count": 79,
     "metadata": {},
     "output_type": "execute_result"
    }
   ],
   "source": [
    "# Question 53 (2 points)\n",
    "\n",
    "# Print out the last name of the second employee.\n",
    "\n",
    "d = {\"employees\":[{\"firstName\": \"John\", \"lastName\": \"Doe\"},\n",
    "                {\"firstName\": \"Anna\", \"lastName\": \"Smith\"},\n",
    "                {\"firstName\": \"Peter\", \"lastName\": \"Jones\"}],\n",
    "\"owners\":[{\"firstName\": \"Jack\", \"lastName\": \"Petter\"},\n",
    "          {\"firstName\": \"Jessy\", \"lastName\": \"Petter\"}]}\n",
    "\n",
    "d[\"employees\"][1][\"lastName\"]"
   ]
  },
  {
   "cell_type": "code",
   "execution_count": 83,
   "metadata": {},
   "outputs": [
    {
     "data": {
      "text/plain": [
       "{'employees': [{'firstName': 'John', 'lastName': 'Doe'},\n",
       "  {'firstName': 'Anna', 'lastName': 'Smooth'},\n",
       "  {'firstName': 'Peter', 'lastName': 'Jones'}],\n",
       " 'owners': [{'firstName': 'Jack', 'lastName': 'Petter'},\n",
       "  {'firstName': 'Jessy', 'lastName': 'Petter'}]}"
      ]
     },
     "execution_count": 83,
     "metadata": {},
     "output_type": "execute_result"
    }
   ],
   "source": [
    "# Question 54 (2 points)\n",
    "\n",
    "d[\"employees\"][1][\"lastName\"] = \"Smooth\"\n",
    "\n",
    "d"
   ]
  },
  {
   "cell_type": "code",
   "execution_count": null,
   "metadata": {},
   "outputs": [],
   "source": [
    "# Question 55\n",
    "\n"
   ]
  },
  {
   "cell_type": "code",
   "execution_count": null,
   "metadata": {
    "collapsed": true
   },
   "outputs": [],
   "source": []
  }
 ],
 "metadata": {
  "kernelspec": {
   "display_name": "Python 3",
   "language": "python",
   "name": "python3"
  },
  "language_info": {
   "codemirror_mode": {
    "name": "ipython",
    "version": 3
   },
   "file_extension": ".py",
   "mimetype": "text/x-python",
   "name": "python",
   "nbconvert_exporter": "python",
   "pygments_lexer": "ipython3",
   "version": "3.6.3"
  }
 },
 "nbformat": 4,
 "nbformat_minor": 2
}
